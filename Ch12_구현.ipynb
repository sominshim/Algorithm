{
  "nbformat": 4,
  "nbformat_minor": 0,
  "metadata": {
    "colab": {
      "name": "Ch12.구현.ipynb",
      "provenance": [],
      "authorship_tag": "ABX9TyMNtQuMiv+UIhYIBZy+b2rj",
      "include_colab_link": true
    },
    "kernelspec": {
      "name": "python3",
      "display_name": "Python 3"
    },
    "language_info": {
      "name": "python"
    }
  },
  "cells": [
    {
      "cell_type": "markdown",
      "metadata": {
        "id": "view-in-github",
        "colab_type": "text"
      },
      "source": [
        "<a href=\"https://colab.research.google.com/github/sominshim/Algorithm/blob/main/Ch12_%EA%B5%AC%ED%98%84.ipynb\" target=\"_parent\"><img src=\"https://colab.research.google.com/assets/colab-badge.svg\" alt=\"Open In Colab\"/></a>"
      ]
    },
    {
      "cell_type": "markdown",
      "metadata": {
        "id": "orghAksYWXaF"
      },
      "source": [
        "### 럭키 스트레이트 (18406번)\n",
        "[링크](https://www.acmicpc.net/problem/18406)"
      ]
    },
    {
      "cell_type": "code",
      "metadata": {
        "colab": {
          "base_uri": "https://localhost:8080/"
        },
        "id": "MNi3xsObW30x",
        "outputId": "958125f4-0195-4c25-9509-0d01a0cb8f4e"
      },
      "source": [
        "n = input()\n",
        "num_l = []\n",
        "for i in range(len(n)):\n",
        "    num_l.append(int(n[i]))\n",
        "\n",
        "left = sum(num_l[:len(n)//2])\n",
        "right = sum(num_l[len(n)//2:])\n",
        "if left == right:\n",
        "    print('LUCKY')\n",
        "else:\n",
        "    print('READY')"
      ],
      "execution_count": 13,
      "outputs": [
        {
          "output_type": "stream",
          "name": "stdout",
          "text": [
            "7755\n",
            "READY\n"
          ]
        }
      ]
    },
    {
      "cell_type": "markdown",
      "metadata": {
        "id": "WuGqOTfLYP6v"
      },
      "source": [
        "### 문자열 재정렬"
      ]
    },
    {
      "cell_type": "markdown",
      "metadata": {
        "id": "wz5WidW8bX32"
      },
      "source": [
        "\n",
        "input\n",
        "\n",
        "- K1KA5CB7\n",
        "- AJKDLSI412K4JSJ9D\n",
        "\n",
        "output\n",
        "- ABCKK13\n",
        "- ADDIJJJKKLSS20"
      ]
    },
    {
      "cell_type": "code",
      "metadata": {
        "colab": {
          "base_uri": "https://localhost:8080/"
        },
        "id": "maHCGdm6ZVht",
        "outputId": "c1680c53-5960-44da-91e3-ee45511e262f"
      },
      "source": [
        "s = list(input())\n",
        "\n",
        "s.sort()\n",
        "result = ''\n",
        "num_l = []\n",
        "for i in range(len(s)):\n",
        "    try:\n",
        "        num_l.append(int(s[i]))\n",
        "    except:\n",
        "        result+=s[i]\n",
        "result += str(sum(num_l))\n",
        "print(result)"
      ],
      "execution_count": 40,
      "outputs": [
        {
          "output_type": "stream",
          "name": "stdout",
          "text": [
            "AJKDLSI412K4JSJ9D\n",
            "ADDIJJJKKLSS20\n"
          ]
        }
      ]
    },
    {
      "cell_type": "markdown",
      "metadata": {
        "id": "cqE0sSHnbaAH"
      },
      "source": [
        "### 문자열 압축"
      ]
    },
    {
      "cell_type": "code",
      "metadata": {
        "colab": {
          "base_uri": "https://localhost:8080/"
        },
        "id": "e5sYTK18bcPR",
        "outputId": "d48c68b0-f37a-4385-b2d4-a01a81628f54"
      },
      "source": [
        "def solution(s):\n",
        "    size = 1\n",
        "    i = 0\n",
        "    answer = 1001\n",
        "    n = len(s)\n",
        "    cnt=0\n",
        "    sub_l = []\n",
        "\n",
        "    while size <= n:\n",
        "        result = s[:]\n",
        "        for i in range(0, n-size, size):\n",
        "            sub_s = s[i:i+size]\n",
        "            if sub_s in sub_l: continue\n",
        "            sub_l.append(sub_s)\n",
        "\n",
        "            print(sub_s)\n",
        "            cnt = s.count(sub_s)\n",
        "            if cnt >= 1:\n",
        "                result = result.replace(sub_s, \"\", cnt-1)\n",
        "                result += str(cnt)\n",
        "                length = len(result)\n",
        "                print(result)\n",
        "                print(length)\n",
        "                cnt=0\n",
        "\n",
        "            if answer > length:\n",
        "                answer = length\n",
        "        \n",
        "\n",
        "        size += 1\n",
        "\n",
        "    return print(answer)\n",
        "\n",
        "# solution('aabbaccc') # 7\n",
        "# solution(\"ababcdcdababcdcd\") # 9\n",
        "# solution(\"abcabcdede\") # 8\n",
        "solution(\"abcabcabcabcdededededede\") # 14\n",
        "# solution(\"xababcdcdababcdcd\") # 17"
      ],
      "execution_count": 86,
      "outputs": [
        {
          "output_type": "stream",
          "name": "stdout",
          "text": [
            "a\n",
            "bcbcbcabcdededededede4\n",
            "22\n",
            "b\n",
            "cccabcdededededede44\n",
            "20\n",
            "c\n",
            "abcdededededede444\n",
            "18\n",
            "d\n",
            "abceeeeede4446\n",
            "14\n",
            "e\n",
            "abcde44466\n",
            "10\n",
            "ab\n",
            "cccabcdededededede4\n",
            "19\n",
            "ca\n",
            "ccbcdededededede43\n",
            "18\n",
            "bc\n",
            "ccdededededede434\n",
            "17\n",
            "de\n",
            "ccde4346\n",
            "8\n",
            "abc\n",
            "abcdededededede4\n",
            "16\n",
            "ded\n",
            "abceedede43\n",
            "11\n",
            "ede\n",
            "abcede433\n",
            "9\n",
            "abca\n",
            "bcabcabcdededededede2\n",
            "21\n",
            "bcab\n",
            "cabcdededededede22\n",
            "18\n",
            "cabc\n",
            "dededededede222\n",
            "15\n",
            "dede\n",
            "dede2223\n",
            "8\n",
            "abcab\n",
            "cabcabcdededededede2\n",
            "20\n",
            "cabca\n",
            "cabcabcdededededede21\n",
            "21\n",
            "bcded\n",
            "cabcabcdededededede211\n",
            "22\n",
            "edede\n",
            "cabcabcddedede2112\n",
            "18\n",
            "abcabc\n",
            "abcabcdededededede2\n",
            "19\n",
            "dedede\n",
            "abcabcdedede22\n",
            "14\n",
            "abcabca\n",
            "abcabcabcabcdededededede1\n",
            "25\n",
            "bcabcde\n",
            "abcabcabcabcdededededede11\n",
            "26\n",
            "dededed\n",
            "abcabcabcabcdededededede111\n",
            "27\n",
            "abcabcab\n",
            "abcabcabcabcdededededede1\n",
            "25\n",
            "cabcdede\n",
            "abcabcabcabcdededededede11\n",
            "26\n",
            "abcabcabc\n",
            "abcabcabcabcdededededede1\n",
            "25\n",
            "abcdedede\n",
            "abcabcabcabcdededededede11\n",
            "26\n",
            "abcabcabca\n",
            "abcabcabcabcdededededede1\n",
            "25\n",
            "bcdededede\n",
            "abcabcabcabcdededededede11\n",
            "26\n",
            "abcabcabcab\n",
            "abcabcabcabcdededededede1\n",
            "25\n",
            "cdedededede\n",
            "abcabcabcabcdededededede11\n",
            "26\n",
            "abcabcabcabc\n",
            "abcabcabcabcdededededede1\n",
            "25\n",
            "abcabcabcabcd\n",
            "abcabcabcabcdededededede1\n",
            "25\n",
            "abcabcabcabcde\n",
            "abcabcabcabcdededededede1\n",
            "25\n",
            "abcabcabcabcded\n",
            "abcabcabcabcdededededede1\n",
            "25\n",
            "abcabcabcabcdede\n",
            "abcabcabcabcdededededede1\n",
            "25\n",
            "abcabcabcabcdeded\n",
            "abcabcabcabcdededededede1\n",
            "25\n",
            "abcabcabcabcdedede\n",
            "abcabcabcabcdededededede1\n",
            "25\n",
            "abcabcabcabcdededed\n",
            "abcabcabcabcdededededede1\n",
            "25\n",
            "abcabcabcabcdededede\n",
            "abcabcabcabcdededededede1\n",
            "25\n",
            "abcabcabcabcdedededed\n",
            "abcabcabcabcdededededede1\n",
            "25\n",
            "abcabcabcabcdedededede\n",
            "abcabcabcabcdededededede1\n",
            "25\n",
            "abcabcabcabcdededededed\n",
            "abcabcabcabcdededededede1\n",
            "25\n",
            "8\n"
          ]
        }
      ]
    },
    {
      "cell_type": "code",
      "metadata": {
        "colab": {
          "base_uri": "https://localhost:8080/"
        },
        "id": "vboPglfJcpMe",
        "outputId": "b62e6a59-3f39-4b1a-d8d0-b68825ffd444"
      },
      "source": [
        "s = \"abcabcabcabcdededededede\"\n",
        "size=1\n",
        "i = 0\n",
        "answer = 1001\n",
        "n = len(s)\n",
        "cnt=0\n",
        "result = s\n",
        "for i in range(1, n, size):\n",
        "    sub_s = s[i:i+size]\n",
        "    print(sub_s)\n",
        "    cnt = s.count(sub_s)\n",
        "    if cnt != 0:\n",
        "        result = result.replace(sub_s, \"\", cnt-1)\n",
        "        result += str(cnt)\n",
        "        length = len(result)\n",
        "        print(result)\n",
        "        cnt=0\n",
        "        break\n",
        "\n",
        "    if answer > length:\n",
        "        answer = length"
      ],
      "execution_count": 76,
      "outputs": [
        {
          "output_type": "stream",
          "name": "stdout",
          "text": [
            "b\n",
            "acacacabcdededededede4\n"
          ]
        }
      ]
    },
    {
      "cell_type": "code",
      "metadata": {
        "colab": {
          "base_uri": "https://localhost:8080/",
          "height": 35
        },
        "id": "MhOOBIqjkrbw",
        "outputId": "f5864549-cd8c-4936-97da-90c7bf514acc"
      },
      "source": [
        "sub_s"
      ],
      "execution_count": 77,
      "outputs": [
        {
          "output_type": "execute_result",
          "data": {
            "application/vnd.google.colaboratory.intrinsic+json": {
              "type": "string"
            },
            "text/plain": [
              "'b'"
            ]
          },
          "metadata": {},
          "execution_count": 77
        }
      ]
    },
    {
      "cell_type": "code",
      "metadata": {
        "colab": {
          "base_uri": "https://localhost:8080/",
          "height": 35
        },
        "id": "klfGd0RPkzts",
        "outputId": "fd7504eb-263a-452d-aaf2-7dcc7c5ac8d7"
      },
      "source": [
        "s"
      ],
      "execution_count": 78,
      "outputs": [
        {
          "output_type": "execute_result",
          "data": {
            "application/vnd.google.colaboratory.intrinsic+json": {
              "type": "string"
            },
            "text/plain": [
              "'abcabcabcabcdededededede'"
            ]
          },
          "metadata": {},
          "execution_count": 78
        }
      ]
    },
    {
      "cell_type": "code",
      "metadata": {
        "colab": {
          "base_uri": "https://localhost:8080/",
          "height": 35
        },
        "id": "O0K5MOILkawq",
        "outputId": "e25a1947-a74f-420a-8a49-81c787530d04"
      },
      "source": [
        "s.replace(sub_s, \"\", cnt-1)"
      ],
      "execution_count": 74,
      "outputs": [
        {
          "output_type": "execute_result",
          "data": {
            "application/vnd.google.colaboratory.intrinsic+json": {
              "type": "string"
            },
            "text/plain": [
              "'abcabcabcabcdededededede'"
            ]
          },
          "metadata": {},
          "execution_count": 74
        }
      ]
    },
    {
      "cell_type": "code",
      "metadata": {
        "colab": {
          "base_uri": "https://localhost:8080/",
          "height": 35
        },
        "id": "2JH58gD-kPqm",
        "outputId": "312ac12c-f112-4bc5-fdbd-8b431f78a2f0"
      },
      "source": [
        "result"
      ],
      "execution_count": 71,
      "outputs": [
        {
          "output_type": "execute_result",
          "data": {
            "application/vnd.google.colaboratory.intrinsic+json": {
              "type": "string"
            },
            "text/plain": [
              "'bcbcbcabcdededededede4'"
            ]
          },
          "metadata": {},
          "execution_count": 71
        }
      ]
    },
    {
      "cell_type": "code",
      "metadata": {
        "colab": {
          "base_uri": "https://localhost:8080/",
          "height": 35
        },
        "id": "kLYQ00rxf-F6",
        "outputId": "d9bb212e-96ec-451c-af8b-1e8f2f36547d"
      },
      "source": [
        "a.replace(characters[x],\"\")"
      ],
      "execution_count": 47,
      "outputs": [
        {
          "output_type": "execute_result",
          "data": {
            "application/vnd.google.colaboratory.intrinsic+json": {
              "type": "string"
            },
            "text/plain": [
              "'abc'"
            ]
          },
          "metadata": {},
          "execution_count": 47
        }
      ]
    },
    {
      "cell_type": "code",
      "metadata": {
        "id": "JRGbhD__gGao"
      },
      "source": [
        ""
      ],
      "execution_count": null,
      "outputs": []
    },
    {
      "cell_type": "markdown",
      "metadata": {
        "id": "MfCpY0GzbptB"
      },
      "source": [
        "### 자물쇠와 열쇠"
      ]
    },
    {
      "cell_type": "code",
      "metadata": {
        "id": "yImHHh0XbsI5"
      },
      "source": [
        ""
      ],
      "execution_count": null,
      "outputs": []
    },
    {
      "cell_type": "markdown",
      "metadata": {
        "id": "jFrDc2B6bvse"
      },
      "source": [
        "### 뱀"
      ]
    },
    {
      "cell_type": "code",
      "metadata": {
        "id": "1V_tbkMLbwiE"
      },
      "source": [
        ""
      ],
      "execution_count": null,
      "outputs": []
    },
    {
      "cell_type": "markdown",
      "metadata": {
        "id": "GmilMzdybyAI"
      },
      "source": [
        "### 기둥과 보 설치"
      ]
    },
    {
      "cell_type": "code",
      "metadata": {
        "id": "omdB9VU2bz5f"
      },
      "source": [
        ""
      ],
      "execution_count": null,
      "outputs": []
    },
    {
      "cell_type": "markdown",
      "metadata": {
        "id": "uezFw3dwb1lu"
      },
      "source": [
        "### 치킨 배달"
      ]
    },
    {
      "cell_type": "code",
      "metadata": {
        "id": "qwTF6z_Ob2jA"
      },
      "source": [
        ""
      ],
      "execution_count": 40,
      "outputs": []
    },
    {
      "cell_type": "markdown",
      "metadata": {
        "id": "bOurI3W-b39u"
      },
      "source": [
        "### 외벽 점검"
      ]
    },
    {
      "cell_type": "code",
      "metadata": {
        "id": "52CGvwNLb5I1"
      },
      "source": [
        ""
      ],
      "execution_count": null,
      "outputs": []
    }
  ]
}