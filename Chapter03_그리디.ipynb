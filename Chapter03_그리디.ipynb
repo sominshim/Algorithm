{
  "nbformat": 4,
  "nbformat_minor": 0,
  "metadata": {
    "colab": {
      "name": "Chapter03. 그리디.ipynb",
      "provenance": [],
      "authorship_tag": "ABX9TyNFygpG8O60BiZrQQU9Nyp3",
      "include_colab_link": true
    },
    "kernelspec": {
      "name": "python3",
      "display_name": "Python 3"
    },
    "language_info": {
      "name": "python"
    }
  },
  "cells": [
    {
      "cell_type": "markdown",
      "metadata": {
        "id": "view-in-github",
        "colab_type": "text"
      },
      "source": [
        "<a href=\"https://colab.research.google.com/github/sominshim/Algorithm/blob/main/Chapter03_%EA%B7%B8%EB%A6%AC%EB%94%94.ipynb\" target=\"_parent\"><img src=\"https://colab.research.google.com/assets/colab-badge.svg\" alt=\"Open In Colab\"/></a>"
      ]
    },
    {
      "cell_type": "markdown",
      "metadata": {
        "id": "dr1_JN9LU8aX"
      },
      "source": [
        "## Chapter 03 그리디"
      ]
    },
    {
      "cell_type": "markdown",
      "metadata": {
        "id": "1_yOueLKVHpc"
      },
      "source": [
        "### 큰 수의 법치"
      ]
    },
    {
      "cell_type": "code",
      "metadata": {
        "colab": {
          "base_uri": "https://localhost:8080/"
        },
        "id": "BNFQZ0IjFS3A",
        "outputId": "01b5c09e-c116-483c-fe93-19a4ffee5c2c"
      },
      "source": [
        "N, M, K = input(\"세 숫자를 입력하세요:\").split()\n",
        "N, M, K = int(N), int(M), int(K)\n",
        "\n",
        "arr = input(\"배열 입력하세요:\").split()\n",
        "arr = list(map(int, arr))"
      ],
      "execution_count": 26,
      "outputs": [
        {
          "output_type": "stream",
          "text": [
            "세 숫자를 입력하세요:5 8 3\n",
            "배열 입력하세요:2 4 5 4 6\n"
          ],
          "name": "stdout"
        }
      ]
    },
    {
      "cell_type": "code",
      "metadata": {
        "colab": {
          "base_uri": "https://localhost:8080/"
        },
        "id": "lE1J041VIWw_",
        "outputId": "a79b585e-cb55-42d1-897b-b7ae7cb4ca13"
      },
      "source": [
        "arr.sort(reverse=True)\n",
        "arr"
      ],
      "execution_count": 32,
      "outputs": [
        {
          "output_type": "execute_result",
          "data": {
            "text/plain": [
              "[6, 5, 4, 4, 2]"
            ]
          },
          "metadata": {
            "tags": []
          },
          "execution_count": 32
        }
      ]
    },
    {
      "cell_type": "code",
      "metadata": {
        "colab": {
          "base_uri": "https://localhost:8080/"
        },
        "id": "BRWWFAqDIxKb",
        "outputId": "38cab80a-3ae3-4091-ea3e-7b3bc1794a12"
      },
      "source": [
        "count = 0\n",
        "count += M/(K+1) * K\n",
        "count += M%(K+1)\n",
        "\n",
        "answer = count * arr[0]\n",
        "answer += (M-count) * arr[1]\n",
        "\n",
        "print(answer)"
      ],
      "execution_count": 39,
      "outputs": [
        {
          "output_type": "stream",
          "text": [
            "46.0\n"
          ],
          "name": "stdout"
        }
      ]
    },
    {
      "cell_type": "markdown",
      "metadata": {
        "id": "LwZHPd6EVN_M"
      },
      "source": [
        "### 숫자 카드 게임"
      ]
    },
    {
      "cell_type": "code",
      "metadata": {
        "colab": {
          "base_uri": "https://localhost:8080/"
        },
        "id": "EXyGtRtVKaON",
        "outputId": "09f0962e-a18e-4bd1-ec3b-249f5d386cbe"
      },
      "source": [
        "N, M = input(\"행과 열 입력하세요:\").split()\n",
        "N, M = int(N), int(M)\n",
        "\n",
        "arr_m = []\n",
        "for i in range(N):\n",
        "    arr = input(\"배열 입력하세요:\").split()\n",
        "    arr = list(map(int, arr))\n",
        "    arr_m.append(arr)"
      ],
      "execution_count": 19,
      "outputs": [
        {
          "output_type": "stream",
          "text": [
            "행과 열 입력하세요:2 4\n",
            "배열 입력하세요:7 3 1 8\n",
            "배열 입력하세요:3 3 3 4\n"
          ],
          "name": "stdout"
        }
      ]
    },
    {
      "cell_type": "code",
      "metadata": {
        "id": "ZMLtBN55Nw5w"
      },
      "source": [
        "min_value = []\n",
        "for i in range(N):\n",
        "    min_value.append(min(arr_m[i]))"
      ],
      "execution_count": 20,
      "outputs": []
    },
    {
      "cell_type": "code",
      "metadata": {
        "colab": {
          "base_uri": "https://localhost:8080/"
        },
        "id": "m5VYibIzPIj5",
        "outputId": "dc366c9d-3121-4bd1-f834-b24dcad3dead"
      },
      "source": [
        "max(min_value)"
      ],
      "execution_count": 21,
      "outputs": [
        {
          "output_type": "execute_result",
          "data": {
            "text/plain": [
              "3"
            ]
          },
          "metadata": {
            "tags": []
          },
          "execution_count": 21
        }
      ]
    },
    {
      "cell_type": "markdown",
      "metadata": {
        "id": "V3d6Kf5DVQ4P"
      },
      "source": [
        "### 1이 될 때까지"
      ]
    },
    {
      "cell_type": "code",
      "metadata": {
        "colab": {
          "base_uri": "https://localhost:8080/"
        },
        "id": "ZjLvCUGtP2Qo",
        "outputId": "5a75ea4a-42af-4cde-eb6f-0b5d13c8482c"
      },
      "source": [
        "N, K = input(\"두 숫자를 입력하세요:\").split()\n",
        "N, K = int(N), int(K)"
      ],
      "execution_count": 24,
      "outputs": [
        {
          "output_type": "stream",
          "text": [
            "두 숫자를 입력하세요:25 5\n"
          ],
          "name": "stdout"
        }
      ]
    },
    {
      "cell_type": "code",
      "metadata": {
        "colab": {
          "base_uri": "https://localhost:8080/"
        },
        "id": "lnSXAt7CRlin",
        "outputId": "1b6ce7c3-669a-4d48-9632-f349e5be5cda"
      },
      "source": [
        "cnt=0\n",
        "\n",
        "while N>1:\n",
        "    if N%K == 0:\n",
        "        N=N//K\n",
        "    else:\n",
        "        N=N-1\n",
        "    cnt+=1\n",
        "\n",
        "print(cnt)"
      ],
      "execution_count": 25,
      "outputs": [
        {
          "output_type": "stream",
          "text": [
            "2\n"
          ],
          "name": "stdout"
        }
      ]
    },
    {
      "cell_type": "code",
      "metadata": {
        "id": "G8HOvPfFRyxd"
      },
      "source": [
        ""
      ],
      "execution_count": null,
      "outputs": []
    }
  ]
}