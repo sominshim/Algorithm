{
  "nbformat": 4,
  "nbformat_minor": 0,
  "metadata": {
    "colab": {
      "name": "Chapter04. 구현.ipynb",
      "provenance": [],
      "authorship_tag": "ABX9TyNBA9IF7Ney+FirTC5S3vpY",
      "include_colab_link": true
    },
    "kernelspec": {
      "name": "python3",
      "display_name": "Python 3"
    },
    "language_info": {
      "name": "python"
    }
  },
  "cells": [
    {
      "cell_type": "markdown",
      "metadata": {
        "id": "view-in-github",
        "colab_type": "text"
      },
      "source": [
        "<a href=\"https://colab.research.google.com/github/sominshim/Algorithm/blob/main/Chapter04_%EA%B5%AC%ED%98%84.ipynb\" target=\"_parent\"><img src=\"https://colab.research.google.com/assets/colab-badge.svg\" alt=\"Open In Colab\"/></a>"
      ]
    },
    {
      "cell_type": "code",
      "metadata": {
        "colab": {
          "base_uri": "https://localhost:8080/"
        },
        "id": "CJZCxXnnXdBQ",
        "outputId": "068d6bb6-c0d9-4ff9-cd3a-4b0a31129d25"
      },
      "source": [
        "n = int(input())\n",
        "\n",
        "start_row = 1\n",
        "start_col = 1"
      ],
      "execution_count": null,
      "outputs": [
        {
          "output_type": "stream",
          "text": [
            "5\n"
          ],
          "name": "stdout"
        }
      ]
    },
    {
      "cell_type": "code",
      "metadata": {
        "colab": {
          "base_uri": "https://localhost:8080/"
        },
        "id": "38ngaWCDapqe",
        "outputId": "90b7887b-71e4-475b-95f6-fb8631725229"
      },
      "source": [
        "move_list = input().split()"
      ],
      "execution_count": null,
      "outputs": [
        {
          "output_type": "stream",
          "text": [
            "R R R U D D\n"
          ],
          "name": "stdout"
        }
      ]
    },
    {
      "cell_type": "code",
      "metadata": {
        "id": "KTQddnDQb8Mz"
      },
      "source": [
        "def check_route(route, n):\n",
        "    if (route < 1) | (route > n):\n",
        "        return False\n",
        "    else:\n",
        "        return True"
      ],
      "execution_count": null,
      "outputs": []
    },
    {
      "cell_type": "code",
      "metadata": {
        "id": "nJnixhXga1BJ"
      },
      "source": [
        "for i in move_list:\n",
        "    if (i == 'R') & check_route(start_col+1, n):\n",
        "        start_col += 1\n",
        "    elif (i == 'L') & check_route(start_col-1, n):\n",
        "        start_col += -1\n",
        "    elif (i == 'D')& check_route(start_row+1, n):\n",
        "        start_row += 1\n",
        "    elif (i == 'U')& check_route(start_row-1, n):\n",
        "        start_row += -1"
      ],
      "execution_count": null,
      "outputs": []
    },
    {
      "cell_type": "code",
      "metadata": {
        "colab": {
          "base_uri": "https://localhost:8080/"
        },
        "id": "bYyyhqk_cyV1",
        "outputId": "14263c3e-7b51-4758-e3c7-fde9408bded3"
      },
      "source": [
        "print(start_row, start_col)"
      ],
      "execution_count": null,
      "outputs": [
        {
          "output_type": "stream",
          "text": [
            "3 4\n"
          ],
          "name": "stdout"
        }
      ]
    },
    {
      "cell_type": "code",
      "metadata": {
        "colab": {
          "base_uri": "https://localhost:8080/"
        },
        "id": "C136EMtCgjTn",
        "outputId": "e15e5518-0e46-464a-ddb8-5608dc7c4424"
      },
      "source": [
        "location = input()"
      ],
      "execution_count": null,
      "outputs": [
        {
          "output_type": "stream",
          "text": [
            "c2\n"
          ],
          "name": "stdout"
        }
      ]
    },
    {
      "cell_type": "code",
      "metadata": {
        "id": "E3C7C6oqgj8X"
      },
      "source": [
        "from more_itertools import locate\n",
        "\n",
        "col = ['a', 'b', 'c', 'd', 'e','f','g','h']\n",
        "start_r = int(location[1])\n",
        "start_c = list(locate(col, lambda x: x == location[0]))[0]+1"
      ],
      "execution_count": null,
      "outputs": []
    },
    {
      "cell_type": "code",
      "metadata": {
        "colab": {
          "base_uri": "https://localhost:8080/"
        },
        "id": "eFTD8SlhkhAV",
        "outputId": "ebf1bc71-b131-46d4-88d1-7b6cd3443c2f"
      },
      "source": [
        "print(start_r, start_c)"
      ],
      "execution_count": null,
      "outputs": [
        {
          "output_type": "stream",
          "text": [
            "2 3\n"
          ],
          "name": "stdout"
        }
      ]
    },
    {
      "cell_type": "code",
      "metadata": {
        "id": "OngDGkw4ivdp"
      },
      "source": [
        "route = [[2,1],[2,-1],[-2,1],[-2,-1],\n",
        "         [1,2],[1,-2],[-1,2],[-1,-2]]"
      ],
      "execution_count": null,
      "outputs": []
    },
    {
      "cell_type": "code",
      "metadata": {
        "id": "sCwFXe2pjHAq"
      },
      "source": [
        "cnt=0\n",
        "for i,j in route:\n",
        "    move_r = start_r + i\n",
        "    move_c = start_c + j\n",
        "    if check_route(move_r, 8) & check_route(move_c, 8):\n",
        "        cnt += 1"
      ],
      "execution_count": null,
      "outputs": []
    },
    {
      "cell_type": "code",
      "metadata": {
        "colab": {
          "base_uri": "https://localhost:8080/"
        },
        "id": "jKUHiG9mhcqC",
        "outputId": "768d0f5e-54c5-4ebf-ce63-8b0f9be7bf9d"
      },
      "source": [
        "cnt"
      ],
      "execution_count": null,
      "outputs": [
        {
          "output_type": "execute_result",
          "data": {
            "text/plain": [
              "6"
            ]
          },
          "metadata": {
            "tags": []
          },
          "execution_count": 70
        }
      ]
    },
    {
      "cell_type": "markdown",
      "metadata": {
        "id": "jbo6DgSHlP1r"
      },
      "source": [
        "### 게임 개발"
      ]
    },
    {
      "cell_type": "code",
      "metadata": {
        "colab": {
          "base_uri": "https://localhost:8080/"
        },
        "id": "tgtbhafttl84",
        "outputId": "02d16d7a-e0e8-40c5-e573-4ea693c6224d"
      },
      "source": [
        "n, m = input().split()\n",
        "n, m = int(n), int(m)\n",
        "\n",
        "a, b, d = input().split()\n",
        "a, b, d = int(a), int(b), int(d) \n",
        "\n",
        "map = []\n",
        "for i in range(n):\n",
        "    m = input().split()\n",
        "    map.append(m)"
      ],
      "execution_count": null,
      "outputs": [
        {
          "output_type": "stream",
          "text": [
            "4 4\n",
            "1 1 0\n",
            "1 1 1 1\n",
            "1 0 0 1\n",
            "1 1 0 1\n",
            "1 1 1 1\n"
          ],
          "name": "stdout"
        }
      ]
    },
    {
      "cell_type": "code",
      "metadata": {
        "id": "t4a0LgauniVR"
      },
      "source": [
        "direction = [[0,-1],[1,0],[0,1],[-1,0]]\n",
        "x, y = direction[d]\n",
        "\n",
        "cnt=1\n",
        "cant_go=0\n",
        "\n",
        "map[a][b] = 'X'\n",
        "\n",
        "while cant_go != 4:\n",
        "    if d == -5: d=0\n",
        "    \n",
        "    x, y = direction[d]\n",
        "    if map[a+x][b+y] == '0':\n",
        "        map[a+x][b+y] = 'X'\n",
        "        cnt += 1\n",
        "        cant_go=0\n",
        "        a = a+x\n",
        "        b = b+y\n",
        "    else:\n",
        "        cant_go += 1\n",
        "    d = d - 1"
      ],
      "execution_count": null,
      "outputs": []
    },
    {
      "cell_type": "code",
      "metadata": {
        "colab": {
          "base_uri": "https://localhost:8080/"
        },
        "id": "vYwZ1XUnrimZ",
        "outputId": "60212578-671a-4a25-f62b-5be89c5c6d85"
      },
      "source": [
        "map"
      ],
      "execution_count": null,
      "outputs": [
        {
          "output_type": "execute_result",
          "data": {
            "text/plain": [
              "[['1', '1', '1', '1'],\n",
              " ['1', 'X', 'X', '1'],\n",
              " ['1', '1', 'X', '1'],\n",
              " ['1', '1', '1', '1']]"
            ]
          },
          "metadata": {
            "tags": []
          },
          "execution_count": 47
        }
      ]
    },
    {
      "cell_type": "code",
      "metadata": {
        "colab": {
          "base_uri": "https://localhost:8080/"
        },
        "id": "g5ZwTA2WtqGe",
        "outputId": "32595b0c-7d56-4e00-d9f9-2ed81d6097e0"
      },
      "source": [
        "cnt"
      ],
      "execution_count": null,
      "outputs": [
        {
          "output_type": "execute_result",
          "data": {
            "text/plain": [
              "3"
            ]
          },
          "metadata": {
            "tags": []
          },
          "execution_count": 48
        }
      ]
    },
    {
      "cell_type": "code",
      "metadata": {
        "colab": {
          "base_uri": "https://localhost:8080/"
        },
        "id": "FK2kFRh1uBb_",
        "outputId": "74ab3b49-654c-4348-abd0-fade0cd152ba"
      },
      "source": [
        "d"
      ],
      "execution_count": null,
      "outputs": [
        {
          "output_type": "execute_result",
          "data": {
            "text/plain": [
              "-3"
            ]
          },
          "metadata": {
            "tags": []
          },
          "execution_count": 49
        }
      ]
    },
    {
      "cell_type": "code",
      "metadata": {
        "colab": {
          "base_uri": "https://localhost:8080/"
        },
        "id": "1mLIhshPuO0f",
        "outputId": "7ae29e6d-fe5c-426d-d314-227255fc68ad"
      },
      "source": [
        "cant_go"
      ],
      "execution_count": null,
      "outputs": [
        {
          "output_type": "execute_result",
          "data": {
            "text/plain": [
              "4"
            ]
          },
          "metadata": {
            "tags": []
          },
          "execution_count": 50
        }
      ]
    },
    {
      "cell_type": "code",
      "metadata": {
        "id": "CQcawEujvMez"
      },
      "source": [
        ""
      ],
      "execution_count": null,
      "outputs": []
    }
  ]
}