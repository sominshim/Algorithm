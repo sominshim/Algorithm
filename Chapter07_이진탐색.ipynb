{
  "nbformat": 4,
  "nbformat_minor": 0,
  "metadata": {
    "colab": {
      "name": "Chapter 07. 이진탐색.ipynb",
      "provenance": [],
      "authorship_tag": "ABX9TyOfg9HUm2jzNNjMJ0yY9/hI",
      "include_colab_link": true
    },
    "kernelspec": {
      "name": "python3",
      "display_name": "Python 3"
    },
    "language_info": {
      "name": "python"
    }
  },
  "cells": [
    {
      "cell_type": "markdown",
      "metadata": {
        "id": "view-in-github",
        "colab_type": "text"
      },
      "source": [
        "<a href=\"https://colab.research.google.com/github/sominshim/Algorithm/blob/main/Chapter_07_%EC%9D%B4%EC%A7%84%ED%83%90%EC%83%89.ipynb\" target=\"_parent\"><img src=\"https://colab.research.google.com/assets/colab-badge.svg\" alt=\"Open In Colab\"/></a>"
      ]
    },
    {
      "cell_type": "markdown",
      "metadata": {
        "id": "fSVrfEIPK2QP"
      },
      "source": [
        "### 반복문으로 구현한 이진 탐색"
      ]
    },
    {
      "cell_type": "code",
      "metadata": {
        "id": "wc_E3xbqK6qR"
      },
      "source": [
        "def binary_search(array, target, start, end):\n",
        "    while start <= end:\n",
        "        mid = (start + end) // 2\n",
        "        # 찾은 경우 중간점 인덱스 반환\n",
        "        if array[mid] == target:\n",
        "            return mid\n",
        "        # 중간점의 값보다 찾고자 하는 값이 작은 경우 왼쪽 확인\n",
        "        elif array[mid] > target:\n",
        "            end = mid - 1\n",
        "        # 중간점의 값보다 찾고자 하는 값이 큰 경우 오른쪽 확인\n",
        "        else:\n",
        "            start = mid + 1\n",
        "        \n",
        "    return None"
      ],
      "execution_count": null,
      "outputs": []
    },
    {
      "cell_type": "code",
      "metadata": {
        "id": "YOqUHWyTLgDm"
      },
      "source": [
        "# n, target 입력받기\n",
        "n, target = list(map(int, input().split()))\n",
        "# 전체 원소 입력받기\n",
        "array = list(map(int, input().split()))\n",
        "\n",
        "# 이진 탐색 수행 결과 출력\n",
        "result = binary_search(array, target, 0, n-1)\n",
        "if result == None:\n",
        "    print(\"원소가 존재하지 않습니다\")\n",
        "else:\n",
        "    print(result + 1)"
      ],
      "execution_count": null,
      "outputs": []
    },
    {
      "cell_type": "markdown",
      "metadata": {
        "id": "_hSf7gKzN2l7"
      },
      "source": [
        "### 빠르게 입력받기"
      ]
    },
    {
      "cell_type": "code",
      "metadata": {
        "id": "6q_xuBKVN4mY"
      },
      "source": [
        "import sys\n",
        "\n",
        "# 하나의 문자열 데이터 입력받기\n",
        "input_data = sys.stdin.readline().rstrip()"
      ],
      "execution_count": null,
      "outputs": []
    },
    {
      "cell_type": "code",
      "metadata": {
        "colab": {
          "base_uri": "https://localhost:8080/"
        },
        "id": "2ahQjpw3OCOh",
        "outputId": "bebd5389-c991-4863-9f2f-c73d5ee673f8"
      },
      "source": [
        "print(input_data)"
      ],
      "execution_count": null,
      "outputs": [
        {
          "output_type": "stream",
          "text": [
            "\n"
          ],
          "name": "stdout"
        }
      ]
    },
    {
      "cell_type": "markdown",
      "metadata": {
        "id": "OvhkFPHxxV9G"
      },
      "source": [
        "## 부품 찾기"
      ]
    },
    {
      "cell_type": "code",
      "metadata": {
        "id": "njuGedu3x9a5"
      },
      "source": [
        "def binary_search(array, target, start, end):\n",
        "    if start > end:\n",
        "        return None\n",
        "    \n",
        "    mid = (start + end) // 2\n",
        "    if target == array[mid]:\n",
        "        return mid\n",
        "    elif target < array[mid]:\n",
        "        return binary_search(array, target, start, mid-1)\n",
        "    elif target > array[mid]:\n",
        "        return binary_search(array, target, mid+1, end)"
      ],
      "execution_count": null,
      "outputs": []
    },
    {
      "cell_type": "code",
      "metadata": {
        "colab": {
          "base_uri": "https://localhost:8080/"
        },
        "id": "0YbE_Jsx0ACV",
        "outputId": "8084034b-1dad-47de-811b-f2dfff3855f0"
      },
      "source": [
        "n = int(input())\n",
        "having_list = list(map(int, input().split()))\n",
        "\n",
        "m = int(input())\n",
        "search_list = list(map(int, input().split()))"
      ],
      "execution_count": null,
      "outputs": [
        {
          "output_type": "stream",
          "text": [
            "5\n",
            "8 3 7 9 2\n",
            "3\n",
            "5 7 9\n"
          ],
          "name": "stdout"
        }
      ]
    },
    {
      "cell_type": "code",
      "metadata": {
        "colab": {
          "base_uri": "https://localhost:8080/"
        },
        "id": "avCwNVoV0Ve0",
        "outputId": "0d9668c7-a731-42ca-9bf1-3228f1dfbdfe"
      },
      "source": [
        "i=0\n",
        "having_list.sort()\n",
        "search_list.sort()\n",
        "start_idx=0\n",
        "\n",
        "while(i < m):\n",
        "    result = binary_search(having_list, search_list[i], start_idx, n-1)\n",
        "    if result == None:\n",
        "        print('no')\n",
        "    else:\n",
        "        print('yes')\n",
        "        end_idx = result\n",
        "    \n",
        "    i += 1"
      ],
      "execution_count": null,
      "outputs": [
        {
          "output_type": "stream",
          "text": [
            "no\n",
            "yes\n",
            "yes\n"
          ],
          "name": "stdout"
        }
      ]
    },
    {
      "cell_type": "code",
      "metadata": {
        "id": "UFlpFgmkOQif"
      },
      "source": [
        "# 답안 1 (계수 정렬)\n",
        "n = int(input())\n",
        "array = [0] * 1000001\n",
        "\n",
        "# 가게에 있는 전체 부품 번호를 입력받아서 기록\n",
        "for i in input().split():\n",
        "    array[int(i)] = 1\n",
        "\n",
        "# M 입력받기\n",
        "m = int(input())\n",
        "# 손님이 확인 요청한 전체 부품 번호를 공백으로 구분하여 입력\n",
        "x = list(map(int, input().split()))\n",
        "\n",
        "# 손님이 확인 요청한 부품 번호를 하나씩 확인\n",
        "for i in x:\n",
        "    if array[i] == 1:\n",
        "        print('yes', end=' ')\n",
        "    else:\n",
        "        print('no', end=' ')"
      ],
      "execution_count": null,
      "outputs": []
    },
    {
      "cell_type": "code",
      "metadata": {
        "id": "bwYQd2A8O4iO"
      },
      "source": [
        "# 답안 2 (집합 자료형 이용)\n",
        "n = int(input())\n",
        "array = set(map(int, input().split()))\n",
        "\n",
        "# M 입력받기\n",
        "m = int(input())\n",
        "# 손님이 확인 요청한 전체 부품 번호를 공백으로 구분하여 입력\n",
        "x = list(map(int, input().split()))\n",
        "\n",
        "# 손님이 확인 요청한 부품 번호를 하나씩 확인\n",
        "for i in x:\n",
        "    if array[i] == 1:\n",
        "        print('yes', end=' ')\n",
        "    else:\n",
        "        print('no', end=' ')"
      ],
      "execution_count": null,
      "outputs": []
    },
    {
      "cell_type": "code",
      "metadata": {
        "id": "FPaMX9NtPLKp"
      },
      "source": [
        ""
      ],
      "execution_count": null,
      "outputs": []
    },
    {
      "cell_type": "markdown",
      "metadata": {
        "id": "yHuOoSHN97HG"
      },
      "source": [
        "## 떡볶이 떡 만들기"
      ]
    },
    {
      "cell_type": "code",
      "metadata": {
        "colab": {
          "base_uri": "https://localhost:8080/"
        },
        "id": "BFExjLg8-M6l",
        "outputId": "06cb1f90-9920-45c4-ca2f-5ece6299a005"
      },
      "source": [
        "n, m = list(map(int, input().split()))\n",
        "len_list = list(map(int, input().split()))"
      ],
      "execution_count": null,
      "outputs": [
        {
          "output_type": "stream",
          "text": [
            "4 6\n",
            "19 15 10 17\n"
          ],
          "name": "stdout"
        }
      ]
    },
    {
      "cell_type": "code",
      "metadata": {
        "id": "_LFeqne_DGJ3"
      },
      "source": [
        "def diff(a, answer):\n",
        "    ans = a - answer\n",
        "    if ans<0: ans=0\n",
        "    return ans"
      ],
      "execution_count": null,
      "outputs": []
    },
    {
      "cell_type": "code",
      "metadata": {
        "id": "POFve0A--Xfh"
      },
      "source": [
        "len_list.sort(reverse=True)\n",
        "answer = len_list[0]\n",
        "sum=0\n",
        "\n",
        "while m != sum:\n",
        "    answer -= 1\n",
        "\n",
        "    sum=0\n",
        "    for a in len_list:\n",
        "        sum += diff(a, answer)"
      ],
      "execution_count": null,
      "outputs": []
    },
    {
      "cell_type": "code",
      "metadata": {
        "colab": {
          "base_uri": "https://localhost:8080/"
        },
        "id": "bT31YmUWEb89",
        "outputId": "2f758579-1349-47c3-dc46-e9766241911f"
      },
      "source": [
        "answer"
      ],
      "execution_count": null,
      "outputs": [
        {
          "output_type": "execute_result",
          "data": {
            "text/plain": [
              "15"
            ]
          },
          "metadata": {
            "tags": []
          },
          "execution_count": 38
        }
      ]
    },
    {
      "cell_type": "code",
      "metadata": {
        "id": "Qab52Zz_CSsS"
      },
      "source": [
        "# 답안\n",
        "n, m = list(map(int, input().split(' ')))\n",
        "array = list(map(int, input().split()))\n",
        "\n",
        "# 이진 탐색을 위한 시작점과 끝점 설정\n",
        "start = 0\n",
        "end = max(array)\n",
        "\n",
        "# 이진 탐색 수행(반복적)\n",
        "result = 0\n",
        "while(start <= end):\n",
        "    total = 0\n",
        "    mid = (start + end) // 2\n",
        "    for x in array:\n",
        "        # 잘랐을 때의 떡의 양 계산\n",
        "        if x > mid:\n",
        "            total += x-mid\n",
        "    # 떡의 양이 부족한 경우 더 많이 자르기 (왼쪽 부분 탐색)\n",
        "    if total < m:\n",
        "        end = mid-1\n",
        "    # 떡의 양이 충분한 경우 더 많이 자르기 (오른쪽 부분 탐색)\n",
        "    else:\n",
        "        result = mid # 최대한 덜 잘랐을 때가 정답이므로, 여기에서 result에 기록\n",
        "        start = mid+1\n",
        "\n",
        "print(result)"
      ],
      "execution_count": null,
      "outputs": []
    },
    {
      "cell_type": "code",
      "metadata": {
        "colab": {
          "base_uri": "https://localhost:8080/"
        },
        "id": "nGMu_RSShjbu",
        "outputId": "09f67dfd-9265-4a16-ee98-ed5a51899b37"
      },
      "source": [
        "n = int(input())\n",
        "array = list(map(int, input().split()))\n",
        "\n",
        "m = int(input())\n",
        "input_arr = list(map(int, input().split()))"
      ],
      "execution_count": null,
      "outputs": [
        {
          "output_type": "stream",
          "text": [
            "5\n",
            "4 1 5 2 3\n",
            "5\n",
            "1 3 7 9 5\n"
          ],
          "name": "stdout"
        }
      ]
    },
    {
      "cell_type": "code",
      "metadata": {
        "id": "LzXs0NXeh5WP"
      },
      "source": [
        "def binary_search(array, target, start, end):\n",
        "    if start > end:\n",
        "        return None\n",
        "    \n",
        "    mid = (start + end) // 2\n",
        "    if target == array[mid]:\n",
        "        return mid\n",
        "    elif target < array[mid]:\n",
        "        return binary_search(array, target, start, mid-1)\n",
        "    elif target > array[mid]:\n",
        "        return binary_search(array, target, mid+1, end)"
      ],
      "execution_count": null,
      "outputs": []
    },
    {
      "cell_type": "code",
      "metadata": {
        "colab": {
          "base_uri": "https://localhost:8080/"
        },
        "id": "6MwJ_XrBiD6r",
        "outputId": "7689ca43-4f0d-4648-8085-f3d6704cd0cc"
      },
      "source": [
        "array.sort()\n",
        "for i in range(m):\n",
        "    result = binary_search(array, input_arr[i], 0, n-1)\n",
        "    if result == None:\n",
        "        print(0)\n",
        "    else: print(1)"
      ],
      "execution_count": null,
      "outputs": [
        {
          "output_type": "stream",
          "text": [
            "1\n",
            "1\n",
            "0\n",
            "0\n",
            "1\n"
          ],
          "name": "stdout"
        }
      ]
    }
  ]
}
