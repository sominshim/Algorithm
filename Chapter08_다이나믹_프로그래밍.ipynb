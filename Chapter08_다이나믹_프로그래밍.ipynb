{
  "nbformat": 4,
  "nbformat_minor": 0,
  "metadata": {
    "colab": {
      "name": "Chapter08. 다이나믹 프로그래밍.ipynb",
      "provenance": [],
      "authorship_tag": "ABX9TyN1FJaekDCYhV3X0pgYHh37",
      "include_colab_link": true
    },
    "kernelspec": {
      "name": "python3",
      "display_name": "Python 3"
    },
    "language_info": {
      "name": "python"
    }
  },
  "cells": [
    {
      "cell_type": "markdown",
      "metadata": {
        "id": "view-in-github",
        "colab_type": "text"
      },
      "source": [
        "<a href=\"https://colab.research.google.com/github/sominshim/Algorithm/blob/main/Chapter08_%EB%8B%A4%EC%9D%B4%EB%82%98%EB%AF%B9_%ED%94%84%EB%A1%9C%EA%B7%B8%EB%9E%98%EB%B0%8D.ipynb\" target=\"_parent\"><img src=\"https://colab.research.google.com/assets/colab-badge.svg\" alt=\"Open In Colab\"/></a>"
      ]
    },
    {
      "cell_type": "markdown",
      "metadata": {
        "id": "9xETFaFSQZFb"
      },
      "source": [
        "# 다이나믹 프로그래밍\n",
        "\n",
        "다음 조건을 만족할 때 사용할 수 있다.\n",
        "1. 큰 문제를 작은 문제로 나눌 수 있다.\n",
        "2. 작은 문제에서 구한 정답은 그것을 포함하는 큰 문제에서도 동일하다.\n"
      ]
    },
    {
      "cell_type": "markdown",
      "metadata": {
        "id": "BOixK7x8Qxf-"
      },
      "source": [
        "대표 문제) 피보나치 수열"
      ]
    },
    {
      "cell_type": "markdown",
      "metadata": {
        "id": "Ki6OGcgsTCAY"
      },
      "source": [
        "메모이제이션(Memoization) 기법을 사용해서 해결해보자.\n",
        "\n",
        "메모이제이션은 다이나믹 프로그래밍을 구현하는 방법 중 한 종류로, 한 번 구한 결과를 메모리 공간에 메모해두고 같은 식을 다시 호출하면 메모한 결과를 그대로 가져오는 기법을 의미한다. 메모이제이션은 값을 저장하는 방법으로 캐싱(Chching)이라고도 한다."
      ]
    },
    {
      "cell_type": "code",
      "metadata": {
        "id": "1FJer2a_Qw-h"
      },
      "source": [
        "# 한 번 계산된 결과를 메모이제이션(Memoization)하기 위한 리스트 초기화\n",
        "d = [0] * 100\n",
        "\n",
        "# 피보나치 함수(Fibonicci Function)를 재귀함수로 구현(탑다운 다이나믹 프로그래밍)\n",
        "def pibo(x):\n",
        "    print('f(' + str(x) + ')', end=' ')\n",
        "    # 종료 조건(1 혹은 2일 때 1을 반환)\n",
        "    if x == 1 or x == 2:\n",
        "        return 1\n",
        "    # 이미 계산한 적 있는 문제라면 그대로 반환\n",
        "    if d[x] != 0:\n",
        "        return d[x]\n",
        "    # 아직 계산하지 않은 문제라면 점화식에 따라서 피보나치 결과 반환\n",
        "    d[x] = pibo(x-1) + pibo(x-2)\n",
        "    return d[x]"
      ],
      "execution_count": null,
      "outputs": []
    },
    {
      "cell_type": "code",
      "metadata": {
        "colab": {
          "base_uri": "https://localhost:8080/"
        },
        "id": "R8ueE0dVQH29",
        "outputId": "c3290d59-3e4f-4206-d29c-2e88d2bfc2a2"
      },
      "source": [
        "pibo(6)"
      ],
      "execution_count": null,
      "outputs": [
        {
          "output_type": "stream",
          "text": [
            "f(6) f(5) f(4) f(3) f(2) f(1) f(2) f(3) f(4) "
          ],
          "name": "stdout"
        },
        {
          "output_type": "execute_result",
          "data": {
            "text/plain": [
              "8"
            ]
          },
          "metadata": {
            "tags": []
          },
          "execution_count": 4
        }
      ]
    },
    {
      "cell_type": "code",
      "metadata": {
        "colab": {
          "base_uri": "https://localhost:8080/"
        },
        "id": "rsURIXpoTfVz",
        "outputId": "f2dfa70f-4159-4ca8-a8c2-1d190fa2f196"
      },
      "source": [
        "# 앞 서 계산된 결과를 저장하기 위한 DP 테이블 초기화\n",
        "d = [0] * 100\n",
        "\n",
        "# 첫 번째 피보나치 수와 두 번째 피보나치 수는 1\n",
        "d[1] = 1\n",
        "d[2] = 1\n",
        "n = 99\n",
        "\n",
        "# 피보나치 함수(Fibonicci Function) 반복문으로 구현(보텀업 다이나믹 프로그래밍)\n",
        "for i in range(3, n+1):\n",
        "    d[i] = d[i-1] + d[i-2]\n",
        "\n",
        "print(d[n])"
      ],
      "execution_count": null,
      "outputs": [
        {
          "output_type": "stream",
          "text": [
            "218922995834555169026\n"
          ],
          "name": "stdout"
        }
      ]
    },
    {
      "cell_type": "code",
      "metadata": {
        "id": "g1T4XDkHVTx9"
      },
      "source": [
        ""
      ],
      "execution_count": null,
      "outputs": []
    },
    {
      "cell_type": "markdown",
      "metadata": {
        "id": "-brRjBGXV1_J"
      },
      "source": [
        "## 1로 만들기"
      ]
    },
    {
      "cell_type": "code",
      "metadata": {
        "colab": {
          "base_uri": "https://localhost:8080/"
        },
        "id": "3ZuTjS6PV3kV",
        "outputId": "2e696ff4-2d1e-4b71-f9d6-14d17a9095df"
      },
      "source": [
        "x = int(input())"
      ],
      "execution_count": null,
      "outputs": [
        {
          "output_type": "stream",
          "text": [
            "26\n"
          ],
          "name": "stdout"
        }
      ]
    },
    {
      "cell_type": "code",
      "metadata": {
        "colab": {
          "base_uri": "https://localhost:8080/"
        },
        "id": "gsd3gVhJW2De",
        "outputId": "0ea292eb-3c86-45f9-a56e-68938669aa55"
      },
      "source": [
        "# 답안 예시\n",
        "# 정수 X를 입력받기\n",
        "x = int(input())\n",
        "\n",
        "# 앞서 계산된 결과를 저장하기 위한 DP 테이블 초기화\n",
        "d = [0] * 3001\n",
        "\n",
        "for i in range(2, x+1):\n",
        "    # 현재의 수에서 1을 빼는 경우\n",
        "    d[i] = d[i-1] + 1\n",
        "    # 현재의 수가 2로 나누어 떨어지는 경우\n",
        "    if i % 2 == 0:\n",
        "        d[i] = min(d[i], d[i//2] + 1)\n",
        "    # 현재의 수가 3로 나누어 떨어지는 경우\n",
        "    if i % 3 == 0:\n",
        "        d[i] = min(d[i], d[i//3] + 1)\n",
        "    # 현재의 수가 5로 나누어 떨어지는 경우\n",
        "    if i % 5 == 0:\n",
        "        d[i] = min(d[i], d[i//5] + 1)  \n",
        "\n",
        "print(d[x]) "
      ],
      "execution_count": null,
      "outputs": [
        {
          "output_type": "stream",
          "text": [
            "26\n",
            "3\n"
          ],
          "name": "stdout"
        }
      ]
    },
    {
      "cell_type": "markdown",
      "metadata": {
        "id": "7BA9ooepdKI1"
      },
      "source": [
        "## 개미 전사"
      ]
    },
    {
      "cell_type": "code",
      "metadata": {
        "colab": {
          "base_uri": "https://localhost:8080/"
        },
        "id": "npxu3ZhTbhFS",
        "outputId": "ec90ebaf-ded4-4ed7-dba5-4feed44d5beb"
      },
      "source": [
        "n = int(input())\n",
        "k_arr = list(map(int, input().split()))\n",
        "\n",
        "# 앞서 계산된 결과를 저장하기 위한 DP 테이블 초기화\n",
        "d = [0] * 100\n",
        "\n",
        "\n",
        "d[0] = k_arr[0]\n",
        "d[1] = max(k_arr[0], k_arr[1])\n",
        "\n",
        "for i in range(2, n):\n",
        "    d[i] = max(k_arr[i-1], k_arr[i-2] + k_arr[i])\n",
        "\n",
        "print(d[n-1]) "
      ],
      "execution_count": null,
      "outputs": [
        {
          "output_type": "stream",
          "text": [
            "4\n",
            "1 3 1 5\n",
            "8\n"
          ],
          "name": "stdout"
        }
      ]
    },
    {
      "cell_type": "markdown",
      "metadata": {
        "id": "XL6-EvDmhkbz"
      },
      "source": [
        "## 바닥 공사"
      ]
    },
    {
      "cell_type": "code",
      "metadata": {
        "id": "bnYqswPbYwMG"
      },
      "source": [
        "def dp(x):\n",
        "    if x == 1: return 1\n",
        "    if x == 2: return 2\n",
        "    if d[x] != 0: return d[x]\n",
        "\n",
        "    d[x] = dp(x-1) + dp(x-2)\n",
        "    return d[x] % 796796"
      ],
      "execution_count": null,
      "outputs": []
    },
    {
      "cell_type": "code",
      "metadata": {
        "colab": {
          "base_uri": "https://localhost:8080/"
        },
        "id": "YEi06FfcZPOV",
        "outputId": "0b14008a-b25a-42c8-bce9-c7b6f2fceeca"
      },
      "source": [
        "# n = int(input())\n",
        "d = [0] * 1001\n",
        "dp(3)"
      ],
      "execution_count": null,
      "outputs": [
        {
          "output_type": "execute_result",
          "data": {
            "text/plain": [
              "3"
            ]
          },
          "metadata": {
            "tags": []
          },
          "execution_count": 124
        }
      ]
    },
    {
      "cell_type": "code",
      "metadata": {
        "colab": {
          "base_uri": "https://localhost:8080/"
        },
        "id": "m-2jakzrZk04",
        "outputId": "51933c91-26cc-4447-9828-2ddb5a427edd"
      },
      "source": [
        "dp(3)"
      ],
      "execution_count": null,
      "outputs": [
        {
          "output_type": "execute_result",
          "data": {
            "text/plain": [
              "55"
            ]
          },
          "metadata": {
            "tags": []
          },
          "execution_count": 121
        }
      ]
    },
    {
      "cell_type": "code",
      "metadata": {
        "colab": {
          "base_uri": "https://localhost:8080/"
        },
        "id": "UVO40rL8hRS9",
        "outputId": "aa3c3427-16d5-4391-a84d-ade81720d015"
      },
      "source": [
        "n = int(input())\n",
        "# arr = list(map(int, input().split()))\n",
        "\n",
        "# 앞서 계산된 결과를 저장하기 위한 DP 테이블 초기화\n",
        "d = [0] * 1001\n",
        "\n",
        "d[1] = 1\n",
        "d[2] = 3\n",
        "\n",
        "for i in range(3, n+1):\n",
        "    d[i] = (d[i-1]) + (d[i-2]*2) % 796796\n",
        "\n",
        "print(d[n]) "
      ],
      "execution_count": null,
      "outputs": [
        {
          "output_type": "stream",
          "text": [
            "3\n",
            "5\n"
          ],
          "name": "stdout"
        }
      ]
    },
    {
      "cell_type": "code",
      "metadata": {
        "colab": {
          "base_uri": "https://localhost:8080/"
        },
        "id": "4VbE6xpolwhm",
        "outputId": "d6a12348-8f8d-41e3-face-ca0bd5547262"
      },
      "source": [
        "6%796796"
      ],
      "execution_count": null,
      "outputs": [
        {
          "output_type": "execute_result",
          "data": {
            "text/plain": [
              "6"
            ]
          },
          "metadata": {
            "tags": []
          },
          "execution_count": 32
        }
      ]
    },
    {
      "cell_type": "markdown",
      "metadata": {
        "id": "KiZAARi5opUS"
      },
      "source": [
        "## 효율적인 화폐 구성"
      ]
    },
    {
      "cell_type": "code",
      "metadata": {
        "colab": {
          "base_uri": "https://localhost:8080/"
        },
        "id": "Faw26IRcnCci",
        "outputId": "38f23051-a891-44e9-b65d-8e8f8f4f4860"
      },
      "source": [
        "n, m = map(int, input().split())\n",
        "\n",
        "array=[]\n",
        "for i in range(n):\n",
        "    array.append(int(input()))"
      ],
      "execution_count": null,
      "outputs": [
        {
          "output_type": "stream",
          "text": [
            "2 15\n",
            "2\n",
            "3\n"
          ],
          "name": "stdout"
        }
      ]
    },
    {
      "cell_type": "code",
      "metadata": {
        "colab": {
          "base_uri": "https://localhost:8080/"
        },
        "id": "yy4rlKZftWGX",
        "outputId": "483a25a7-6788-4d30-a9f9-d3de2ef79e86"
      },
      "source": [
        "array"
      ],
      "execution_count": null,
      "outputs": [
        {
          "output_type": "execute_result",
          "data": {
            "text/plain": [
              "[2, 3]"
            ]
          },
          "metadata": {
            "tags": []
          },
          "execution_count": 53
        }
      ]
    },
    {
      "cell_type": "code",
      "metadata": {
        "colab": {
          "base_uri": "https://localhost:8080/"
        },
        "id": "GW3H_su2o9H4",
        "outputId": "dbb8c08e-faa8-44d0-f31e-e966f186a84e"
      },
      "source": [
        "d = [10001] * (m+1)\n",
        "\n",
        "d[0] = 0\n",
        "for i in range(n):\n",
        "    for j in range(array[i], m+1):\n",
        "        if d[j - array[i]] != 10001:\n",
        "            d[j] = min(d[j], d[j - array[i] + 1])\n",
        "\n",
        "if d[m] == 10001:\n",
        "    print(-1)\n",
        "else:\n",
        "    print(d[m])"
      ],
      "execution_count": null,
      "outputs": [
        {
          "output_type": "stream",
          "text": [
            "-1\n"
          ],
          "name": "stdout"
        }
      ]
    },
    {
      "cell_type": "code",
      "metadata": {
        "colab": {
          "base_uri": "https://localhost:8080/"
        },
        "id": "qqSM0hizpKkX",
        "outputId": "96c5853f-3e2f-4b5f-da5f-cef9afef272a"
      },
      "source": [
        "d = [m] * m\n",
        "\n",
        "for i in range(array[0]), m):\n",
        "    for j in range(0, n):\n",
        "        if (i - array[j]) > 0:\n",
        "            d[i] = min(d[i], d[i - array[j] + 1])\n",
        "\n",
        "\n",
        "print(d[m-1]) "
      ],
      "execution_count": null,
      "outputs": [
        {
          "output_type": "stream",
          "text": [
            "15\n"
          ],
          "name": "stdout"
        }
      ]
    },
    {
      "cell_type": "code",
      "metadata": {
        "colab": {
          "base_uri": "https://localhost:8080/"
        },
        "id": "MeY5rdxUpsES",
        "outputId": "004cbc88-4ef5-4636-bdc8-d0e67a0ad9f9"
      },
      "source": [
        "j"
      ],
      "execution_count": null,
      "outputs": [
        {
          "output_type": "execute_result",
          "data": {
            "text/plain": [
              "2"
            ]
          },
          "metadata": {
            "tags": []
          },
          "execution_count": 56
        }
      ]
    },
    {
      "cell_type": "code",
      "metadata": {
        "colab": {
          "base_uri": "https://localhost:8080/"
        },
        "id": "DrgUTejbuOVj",
        "outputId": "632e3082-4866-448c-ec02-474baa42a468"
      },
      "source": [
        "d"
      ],
      "execution_count": null,
      "outputs": [
        {
          "output_type": "execute_result",
          "data": {
            "text/plain": [
              "[15, 15, 15, 2, 2, 3, 4, 5, 6, 7, 8, 9, 10, 11, 12]"
            ]
          },
          "metadata": {
            "tags": []
          },
          "execution_count": 62
        }
      ]
    },
    {
      "cell_type": "markdown",
      "metadata": {
        "id": "93d__c8n1EGY"
      },
      "source": [
        "## 설탕 배달\n",
        ">[1] 2839번"
      ]
    },
    {
      "cell_type": "code",
      "metadata": {
        "colab": {
          "base_uri": "https://localhost:8080/"
        },
        "id": "E_9Rm38P1D54",
        "outputId": "add9ad05-494f-4a07-a76e-91a4702f85c1"
      },
      "source": [
        "n = int(input())"
      ],
      "execution_count": null,
      "outputs": [
        {
          "output_type": "stream",
          "text": [
            "18\n"
          ],
          "name": "stdout"
        }
      ]
    },
    {
      "cell_type": "code",
      "metadata": {
        "colab": {
          "base_uri": "https://localhost:8080/"
        },
        "id": "CytvAiLDy2JO",
        "outputId": "992212ee-38eb-4522-9300-680d51b15624"
      },
      "source": [
        "n = int(input())\n",
        "\n",
        "finish=0\n",
        "for i in range(n+1):\n",
        "    for j in range(n+1):\n",
        "        if (5*j + 3*i) == n:\n",
        "            print(j+i)\n",
        "            finish=1\n",
        "            break\n",
        "    if finish==1:\n",
        "        break\n",
        "\n",
        "if finish==0:\n",
        "    print(-1)"
      ],
      "execution_count": null,
      "outputs": [
        {
          "output_type": "stream",
          "text": [
            "18\n",
            "4\n"
          ],
          "name": "stdout"
        }
      ]
    },
    {
      "cell_type": "code",
      "metadata": {
        "colab": {
          "base_uri": "https://localhost:8080/"
        },
        "id": "jCdDOVUqAj0C",
        "outputId": "216c3ba5-d2a9-41a8-d54b-bcf8c963e646"
      },
      "source": [
        "n//5+n%5-n%5//3*2"
      ],
      "execution_count": null,
      "outputs": [
        {
          "output_type": "execute_result",
          "data": {
            "text/plain": [
              "3"
            ]
          },
          "metadata": {
            "tags": []
          },
          "execution_count": 101
        }
      ]
    },
    {
      "cell_type": "code",
      "metadata": {
        "colab": {
          "base_uri": "https://localhost:8080/"
        },
        "id": "p0mFpksq-Mmq",
        "outputId": "d7e6644e-6d8d-4bc1-ad2d-77b80c4ac646"
      },
      "source": [
        "n=11\n",
        "if n%5%3 == 0:\n",
        "    print(n//5 + n%5//3)\n",
        "elif n%3%5 == 0:\n",
        "    print(n//3 + n%3//5)\n",
        "else:\n",
        "    print(-1)"
      ],
      "execution_count": null,
      "outputs": [
        {
          "output_type": "stream",
          "text": [
            "-1\n"
          ],
          "name": "stdout"
        }
      ]
    },
    {
      "cell_type": "code",
      "metadata": {
        "colab": {
          "base_uri": "https://localhost:8080/"
        },
        "id": "Ic3BZJU12OlC",
        "outputId": "1948e7ff-4345-4b01-e879-0ce78942d8ba"
      },
      "source": [
        "n//5 + n%5 - n%5//3*2"
      ],
      "execution_count": null,
      "outputs": [
        {
          "output_type": "execute_result",
          "data": {
            "text/plain": [
              "4"
            ]
          },
          "metadata": {
            "tags": []
          },
          "execution_count": 88
        }
      ]
    },
    {
      "cell_type": "code",
      "metadata": {
        "colab": {
          "base_uri": "https://localhost:8080/"
        },
        "id": "haPNCDDj2jR4",
        "outputId": "dd90135a-0217-4c43-ddeb-1f883d0d6d5a"
      },
      "source": [
        "d[3]"
      ],
      "execution_count": null,
      "outputs": [
        {
          "output_type": "execute_result",
          "data": {
            "text/plain": [
              "0"
            ]
          },
          "metadata": {
            "tags": []
          },
          "execution_count": 69
        }
      ]
    },
    {
      "cell_type": "code",
      "metadata": {
        "colab": {
          "base_uri": "https://localhost:8080/"
        },
        "id": "nCpKT5nO3Xp_",
        "outputId": "4cb22b21-56b6-4957-fe5c-25e548a003f4"
      },
      "source": [
        "3//3"
      ],
      "execution_count": null,
      "outputs": [
        {
          "output_type": "execute_result",
          "data": {
            "text/plain": [
              "1"
            ]
          },
          "metadata": {
            "tags": []
          },
          "execution_count": 70
        }
      ]
    },
    {
      "cell_type": "code",
      "metadata": {
        "colab": {
          "base_uri": "https://localhost:8080/"
        },
        "id": "Ahp0JIX13apd",
        "outputId": "d11db7b2-f734-41d2-fbf8-c8800380c5ff"
      },
      "source": [
        "d[1]"
      ],
      "execution_count": null,
      "outputs": [
        {
          "output_type": "execute_result",
          "data": {
            "text/plain": [
              "0"
            ]
          },
          "metadata": {
            "tags": []
          },
          "execution_count": 71
        }
      ]
    },
    {
      "cell_type": "code",
      "metadata": {
        "id": "f5Wg-0EH3cR-"
      },
      "source": [
        ""
      ],
      "execution_count": null,
      "outputs": []
    }
  ]
}