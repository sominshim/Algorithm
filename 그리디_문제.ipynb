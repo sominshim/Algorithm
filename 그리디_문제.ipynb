{
  "nbformat": 4,
  "nbformat_minor": 0,
  "metadata": {
    "colab": {
      "name": "그리디 문제.ipynb",
      "provenance": [],
      "collapsed_sections": [],
      "authorship_tag": "ABX9TyMZ/Nel7TejlI6Fz34Giino",
      "include_colab_link": true
    },
    "kernelspec": {
      "name": "python3",
      "display_name": "Python 3"
    },
    "language_info": {
      "name": "python"
    }
  },
  "cells": [
    {
      "cell_type": "markdown",
      "metadata": {
        "id": "view-in-github",
        "colab_type": "text"
      },
      "source": [
        "<a href=\"https://colab.research.google.com/github/sominshim/Algorithm/blob/main/%EA%B7%B8%EB%A6%AC%EB%94%94_%EB%AC%B8%EC%A0%9C.ipynb\" target=\"_parent\"><img src=\"https://colab.research.google.com/assets/colab-badge.svg\" alt=\"Open In Colab\"/></a>"
      ]
    },
    {
      "cell_type": "markdown",
      "metadata": {
        "id": "Na-5VlAW-b7K"
      },
      "source": [
        "## Q. 모험가 길드"
      ]
    },
    {
      "cell_type": "code",
      "metadata": {
        "colab": {
          "base_uri": "https://localhost:8080/"
        },
        "id": "m7tqNqz-9dsl",
        "outputId": "d40683d6-2414-4e62-91b8-b8b9fab8ce7f"
      },
      "source": [
        "n = int(input())\n",
        "data = list(map(int, input().split()))\n",
        "data.sort()"
      ],
      "execution_count": 24,
      "outputs": [
        {
          "output_type": "stream",
          "text": [
            "5\n",
            "2 3 1 2 2\n"
          ],
          "name": "stdout"
        }
      ]
    },
    {
      "cell_type": "code",
      "metadata": {
        "id": "Mf77P2wKCbaR"
      },
      "source": [
        "grp_cnt = 0 # 현재 그룹에 포함된 모험가 수\n",
        "result = 0 # 총 그룹 수\n",
        "\n",
        "for i in data: # 공포도가 낮은 모험가부터 확인하며\n",
        "    grp_cnt += 1 # 현재 그룹에 해당 모험가 포함시키기\n",
        "    if grp_cnt >= i: # 현재 그룹의 모험가 수가 해당 모험가의 공포도 이상이라면, 그룹 결성\n",
        "        grp_cnt = 0 # 현재 그룹의 모험가 수 초기화\n",
        "        result += 1 # 총 그룹의 수 증가시키기\n",
        "\n",
        "print(result) # 결과 출력"
      ],
      "execution_count": 26,
      "outputs": []
    },
    {
      "cell_type": "markdown",
      "metadata": {
        "id": "DFkt3WXhFDc9"
      },
      "source": [
        "## Q. 곱하기 혹은 더하기"
      ]
    },
    {
      "cell_type": "code",
      "metadata": {
        "colab": {
          "base_uri": "https://localhost:8080/"
        },
        "id": "2iBXJA02FFqc",
        "outputId": "f29f20ad-e1ff-46c0-f4b2-65adee780135"
      },
      "source": [
        "s = input()"
      ],
      "execution_count": 50,
      "outputs": [
        {
          "output_type": "stream",
          "text": [
            "567\n"
          ],
          "name": "stdout"
        }
      ]
    },
    {
      "cell_type": "code",
      "metadata": {
        "id": "-eCQFgIFFblj"
      },
      "source": [
        "data = []\n",
        "for i in s:\n",
        "    data.append(int(i))"
      ],
      "execution_count": 51,
      "outputs": []
    },
    {
      "cell_type": "code",
      "metadata": {
        "id": "2JNlz-37Fege"
      },
      "source": [
        "result = data[0]\n",
        "for i in data[1:]:\n",
        "    if result==0 or i==0 or i==1:\n",
        "        result += i\n",
        "    else:\n",
        "        result *= i"
      ],
      "execution_count": 52,
      "outputs": []
    },
    {
      "cell_type": "code",
      "metadata": {
        "colab": {
          "base_uri": "https://localhost:8080/"
        },
        "id": "WjjzBoosGBrd",
        "outputId": "87fff50d-68fb-44d8-d463-37247dc6a69d"
      },
      "source": [
        "result"
      ],
      "execution_count": 53,
      "outputs": [
        {
          "output_type": "execute_result",
          "data": {
            "text/plain": [
              "210"
            ]
          },
          "metadata": {},
          "execution_count": 53
        }
      ]
    },
    {
      "cell_type": "markdown",
      "metadata": {
        "id": "T_eg3SFgHqyO"
      },
      "source": [
        "## Q. 뒤집기(1439)"
      ]
    },
    {
      "cell_type": "code",
      "metadata": {
        "colab": {
          "base_uri": "https://localhost:8080/"
        },
        "id": "H77uGyCEMKh0",
        "outputId": "45e8ddd4-7fd8-4019-94d4-3f01678a995a"
      },
      "source": [
        "s = input()\n",
        "cnt = 0\n",
        "\n",
        "for i in range(len(s)-1):\n",
        "    if s[i] != s[i+1]:\n",
        "        cnt += 1\n",
        "result = cnt//2 + cnt%2\n",
        "print(result)"
      ],
      "execution_count": 91,
      "outputs": [
        {
          "output_type": "stream",
          "text": [
            "10110010\n",
            "3\n"
          ],
          "name": "stdout"
        }
      ]
    },
    {
      "cell_type": "markdown",
      "metadata": {
        "id": "NmAcHnClQbNZ"
      },
      "source": [
        "> 모범 답안"
      ]
    },
    {
      "cell_type": "code",
      "metadata": {
        "colab": {
          "base_uri": "https://localhost:8080/"
        },
        "id": "CsIYCm4UJI3z",
        "outputId": "88ee0f96-66de-4219-d839-5d7d5dffd384"
      },
      "source": [
        "data = input()\n",
        "count0 = 0 # 전부 0으로 바꾸는 경우\n",
        "count1 = 0 # 전부 1로 바꾸는 경우\n",
        "\n",
        "# 첫 번째 원소에 대해서 처리\n",
        "if data[0] == '1':\n",
        "    count0 += 1\n",
        "else:\n",
        "    count1 += 1\n",
        "\n",
        "# 두 번째 원소부터 모든 원소를 확인하며\n",
        "for i in range(len(data) - 1):\n",
        "    if data[i] != data[i + 1]:\n",
        "        # 다음 수에서 1로 바뀌는 경우\n",
        "        if data[i + 1] == '1':\n",
        "            count0 += 1\n",
        "        # 다음 수에서 0으로 바뀌는 경우\n",
        "        else:\n",
        "            count1 += 1\n",
        "\n",
        "print(min(count0, count1))"
      ],
      "execution_count": 92,
      "outputs": [
        {
          "output_type": "stream",
          "text": [
            "10110010\n",
            "3\n"
          ],
          "name": "stdout"
        }
      ]
    },
    {
      "cell_type": "markdown",
      "metadata": {
        "id": "uMuWhqytR4QE"
      },
      "source": [
        "## Q. 만들 수 없는 금액\n"
      ]
    },
    {
      "cell_type": "code",
      "metadata": {
        "colab": {
          "base_uri": "https://localhost:8080/"
        },
        "id": "ZW9wvupnSQWr",
        "outputId": "452ec5d0-e9c0-45db-efbb-6de172749ad8"
      },
      "source": [
        "n = int(input())\n",
        "data = list(map(int, input().split()))\n",
        "\n",
        "from itertools import combinations\n",
        "\n",
        "combi = []\n",
        "result = []\n",
        "for i in range(1, n+1):\n",
        "    combi.append(list(combinations(data, i)))\n",
        "for i in combi:\n",
        "    for j in i:\n",
        "        result.append(sum(j))\n",
        "\n",
        "result = list(set(result))\n",
        "num = 1\n",
        "while True:\n",
        "    if num not in result:\n",
        "        print(num)\n",
        "        break\n",
        "    num += 1"
      ],
      "execution_count": 119,
      "outputs": [
        {
          "output_type": "stream",
          "text": [
            "5\n",
            "3 2 1 1 9\n",
            "8\n"
          ],
          "name": "stdout"
        }
      ]
    },
    {
      "cell_type": "markdown",
      "metadata": {
        "id": "i8P_mCHPaMya"
      },
      "source": [
        "> 아이디어\n",
        "\n",
        "- target 금액은 1부터 시작하고 화폐 단위는 오름차순 정렬을 수행한다.\n",
        "- 화폐단위를 순차적으로 검사하면서 만약 target보다 단위가 작을 경우 해당 target은 만들 수 있다.\n",
        "- target을 만들 수 있을 경우, 다음 target은 해당 화폐단위를 더한 값으로 갱신한다.\n",
        "- target보다 큰 값이 검사 단위로 주어질 경우 해당 target은 만들지 못한다고 판단되어 답으로 출력한다.\n",
        "\n",
        ">> 핵심은 target 이하의 값은 모두 만들 수 있다고 정의하는 것이었다. 화폐 단위가 작은 동전부터 하나씩 확인하면서 target을 증가시키고 가장 작은 target 값을 찾아가기 때문에 그리디 알고리즘으로 분류된다.\n"
      ]
    },
    {
      "cell_type": "code",
      "metadata": {
        "colab": {
          "base_uri": "https://localhost:8080/"
        },
        "id": "_XTBFWmqYI-k",
        "outputId": "b3219976-4999-4509-c0d7-14979bb60f5e"
      },
      "source": [
        "n = int(input())\n",
        "data = list(map(int, input().split()))\n",
        "data.sort()\n",
        "\n",
        "target = 1\n",
        "for x in data:\n",
        "    # 만들 수 없는 금액을 찾았을 때 반복 종료\n",
        "    if target < x:\n",
        "        break\n",
        "    target += x\n",
        "\n",
        "# 만들 수 없는 금액 출력\n",
        "print(target)"
      ],
      "execution_count": 120,
      "outputs": [
        {
          "output_type": "stream",
          "text": [
            "5\n",
            "3 2 1 1 9\n",
            "8\n"
          ],
          "name": "stdout"
        }
      ]
    },
    {
      "cell_type": "markdown",
      "metadata": {
        "id": "ozDqHcZzSQ1Q"
      },
      "source": [
        "## Q. 볼링공 고르기"
      ]
    },
    {
      "cell_type": "code",
      "metadata": {
        "id": "AYftL51bcNgK"
      },
      "source": [
        "import operator as op\n",
        "from functools import reduce\n",
        "\n",
        "def nCr(n, r):\n",
        "    if n < 1 or r < 0 or n < r:\n",
        "        raise ValueError\n",
        "    r = min(r, n-r)\n",
        "    numerator = reduce(op.mul, range(n, n-r, -1), 1)\n",
        "    denominator = reduce(op.mul, range(1, r+1), 1)\n",
        "    return numerator // denominator"
      ],
      "execution_count": 128,
      "outputs": []
    },
    {
      "cell_type": "code",
      "metadata": {
        "colab": {
          "base_uri": "https://localhost:8080/"
        },
        "id": "U5v_57mQSRh_",
        "outputId": "9d2ebd85-a9f4-4c45-fd24-e1a62c88ad91"
      },
      "source": [
        "n, m = map(int, input().split())\n",
        "data = list(map(int, input().split()))\n",
        "print(nCr(n, 2) - (n-m))"
      ],
      "execution_count": 131,
      "outputs": [
        {
          "output_type": "stream",
          "text": [
            "5 3\n",
            "8\n"
          ],
          "name": "stdout"
        }
      ]
    },
    {
      "cell_type": "markdown",
      "metadata": {
        "id": "XEsRW-0gegOl"
      },
      "source": [
        "> 모범답안"
      ]
    },
    {
      "cell_type": "code",
      "metadata": {
        "colab": {
          "base_uri": "https://localhost:8080/"
        },
        "id": "llfc2XLud2_z",
        "outputId": "d40922e7-eaee-42e7-fe28-a7e08cf4b5b0"
      },
      "source": [
        "n, m = map(int, input().split())\n",
        "data = list(map(int, input().split()))\n",
        "\n",
        "# 1부터 10까지의 무게를 담을 수 있는 리스트\n",
        "array = [0] * 11\n",
        "\n",
        "for x in data:\n",
        "    # 각 무게에 해당하는 볼링공의 개수 카운트\n",
        "    array[x] += 1\n",
        "\n",
        "result = 0\n",
        "# 1부터 m까지의 각 무게에 대하여 처리\n",
        "for i in range(1, m + 1):\n",
        "    n -= array[i] # 무게가 i인 볼링공의 개수(A가 선택할 수 있는 개수) 제외\n",
        "    result += array[i] * n # B가 선택하는 경우의 수와 곱해주기\n",
        "\n",
        "print(result)"
      ],
      "execution_count": 130,
      "outputs": [
        {
          "output_type": "execute_result",
          "data": {
            "text/plain": [
              "(5, 3)"
            ]
          },
          "metadata": {},
          "execution_count": 130
        }
      ]
    },
    {
      "cell_type": "markdown",
      "metadata": {
        "id": "p33QtY_LSOuW"
      },
      "source": [
        "## Q. 무지의 먹방 라이브(카카오)\n",
        "[링크](https://programmers.co.kr/learn/courses/30/lessons/42891)"
      ]
    },
    {
      "cell_type": "code",
      "metadata": {
        "id": "sUtCcAtkSPD3"
      },
      "source": [
        "def solution(food_times, k):\n",
        "    while k >= 0:\n",
        "        if max(food_times) == 0: return -1\n",
        "\n",
        "        for i in range(len(food_times)):\n",
        "            if food_times[i] == 0:\n",
        "                continue\n",
        "            elif k == 0: \n",
        "                return i+1\n",
        "            else:\n",
        "                food_times[i] -= 1\n",
        "                k -= 1"
      ],
      "execution_count": 417,
      "outputs": []
    },
    {
      "cell_type": "code",
      "metadata": {
        "colab": {
          "base_uri": "https://localhost:8080/"
        },
        "id": "RdTHhlf-NYci",
        "outputId": "0d173ac6-b4a0-4413-c27b-7a02dcef2f95"
      },
      "source": [
        "%%time\n",
        "solution([1,1,66,1,2,21,1,1,115,1,1,1,1,1,50,1,1], 1110)"
      ],
      "execution_count": 418,
      "outputs": [
        {
          "output_type": "stream",
          "text": [
            "CPU times: user 209 µs, sys: 27 µs, total: 236 µs\n",
            "Wall time: 238 µs\n"
          ],
          "name": "stdout"
        },
        {
          "output_type": "execute_result",
          "data": {
            "text/plain": [
              "-1"
            ]
          },
          "metadata": {},
          "execution_count": 418
        }
      ]
    },
    {
      "cell_type": "code",
      "metadata": {
        "id": "d68n6HKxBP8j"
      },
      "source": [
        "def get_multiple_elements_in_list(in_list, in_indices):\n",
        "    \"\"\"리스트에서 복수인덱스 값을 가져온다\"\"\"\n",
        "    return [in_list[i] for i in in_indices]"
      ],
      "execution_count": 320,
      "outputs": []
    },
    {
      "cell_type": "code",
      "metadata": {
        "id": "MYTeBtN70k7y"
      },
      "source": [
        "def solution(food_times, k):\n",
        "    # if sum(food_times) < k: return -1\n",
        "\n",
        "    idx = list(range(0, len(food_times)))\n",
        "    min_time = min(food_times)\n",
        "    print(min_time)\n",
        "\n",
        "    while k >= len(idx):\n",
        "        if max(food_times) == 0: return -1\n",
        "        for i in idx:\n",
        "            food_times[i] = (food_times[i] - min_time)\n",
        "\n",
        "        print('food_times', food_times)\n",
        "        k -= min_time * len(idx)\n",
        "        print('k = ', k)\n",
        "\n",
        "        idx = [i for i in idx if food_times[i] != 0]\n",
        "        print('idx', idx)\n",
        "\n",
        "    while k >= 0:\n",
        "        if max(food_times) == 0: return -1\n",
        "\n",
        "        for i in idx:\n",
        "            if food_times[i] == 0:\n",
        "                continue\n",
        "            elif k == 0: \n",
        "                return i+1\n",
        "            else:\n",
        "                food_times[i] -= 1\n",
        "                k -= 1"
      ],
      "execution_count": 407,
      "outputs": []
    },
    {
      "cell_type": "code",
      "metadata": {
        "colab": {
          "base_uri": "https://localhost:8080/"
        },
        "id": "696tuodekRsM",
        "outputId": "f3caed6e-63ed-4d7a-d642-aa61cc546608"
      },
      "source": [
        "%time\n",
        "solution([1,1,66,1,2,21,1,1,115,1,1,1,1,1,50,1,1], 10)"
      ],
      "execution_count": 415,
      "outputs": [
        {
          "output_type": "stream",
          "text": [
            "CPU times: user 2 µs, sys: 0 ns, total: 2 µs\n",
            "Wall time: 5.96 µs\n"
          ],
          "name": "stdout"
        },
        {
          "output_type": "execute_result",
          "data": {
            "text/plain": [
              "11"
            ]
          },
          "metadata": {},
          "execution_count": 415
        }
      ]
    },
    {
      "cell_type": "code",
      "metadata": {
        "colab": {
          "base_uri": "https://localhost:8080/"
        },
        "id": "NIOkdAsRHcFS",
        "outputId": "e8c2cb7e-8379-48b6-ff08-cf54eee08202"
      },
      "source": [
        "time = [3,1,2,0]\n",
        "min([x for x in time if x != 0])\n"
      ],
      "execution_count": 358,
      "outputs": [
        {
          "output_type": "execute_result",
          "data": {
            "text/plain": [
              "1"
            ]
          },
          "metadata": {},
          "execution_count": 358
        }
      ]
    },
    {
      "cell_type": "code",
      "metadata": {
        "id": "kHEg181nHx0j"
      },
      "source": [
        ""
      ],
      "execution_count": null,
      "outputs": []
    }
  ]
}