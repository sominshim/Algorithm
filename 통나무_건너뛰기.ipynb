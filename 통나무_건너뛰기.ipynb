{
  "nbformat": 4,
  "nbformat_minor": 0,
  "metadata": {
    "colab": {
      "name": "통나무 건너뛰기.ipynb",
      "provenance": [],
      "authorship_tag": "ABX9TyM9oNAfKymed+xBTr5fJ1zJ",
      "include_colab_link": true
    },
    "kernelspec": {
      "name": "python3",
      "display_name": "Python 3"
    },
    "language_info": {
      "name": "python"
    }
  },
  "cells": [
    {
      "cell_type": "markdown",
      "metadata": {
        "id": "view-in-github",
        "colab_type": "text"
      },
      "source": [
        "<a href=\"https://colab.research.google.com/github/sominshim/Algorithm/blob/main/%ED%86%B5%EB%82%98%EB%AC%B4_%EA%B1%B4%EB%84%88%EB%9B%B0%EA%B8%B0.ipynb\" target=\"_parent\"><img src=\"https://colab.research.google.com/assets/colab-badge.svg\" alt=\"Open In Colab\"/></a>"
      ]
    },
    {
      "cell_type": "markdown",
      "metadata": {
        "id": "t4e05CJpTYBr"
      },
      "source": [
        "## 11497번. 통나무 건너뛰기"
      ]
    },
    {
      "cell_type": "code",
      "metadata": {
        "colab": {
          "base_uri": "https://localhost:8080/"
        },
        "id": "GE3SJcXOfk7L",
        "outputId": "2ece9995-2811-4432-96e5-a65731aa53f8"
      },
      "source": [
        "def min_level(n, L):\n",
        "    answer = []\n",
        "    L.sort()\n",
        "\n",
        "    for i in range(0, n//2+1, 2):\n",
        "        answer.append(L[i] - L[i+2])\n",
        "\n",
        "    for i in range(1, (n-1)//2, 2):\n",
        "        answer.append(L[i] - L[i+2])\n",
        "    \n",
        "    return print(abs(min(answer)))\n",
        "\n",
        "T = int(input())\n",
        "\n",
        "for i in range(T):\n",
        "    n = int(input())\n",
        "    L = input().split()\n",
        "    L = list(map(int, L))\n",
        "    min_level(n, L)"
      ],
      "execution_count": null,
      "outputs": [
        {
          "output_type": "stream",
          "text": [
            "3\n",
            "7\n",
            "13 10 12 11 10 11 12\n",
            "1\n",
            "5\n",
            "2 4 5 7 9\n",
            "4\n",
            "8\n",
            "6 6 6 6 6 6 6 6\n",
            "0\n"
          ],
          "name": "stdout"
        }
      ]
    }
  ]
}